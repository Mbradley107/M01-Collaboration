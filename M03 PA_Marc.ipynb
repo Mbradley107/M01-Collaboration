{
 "cells": [
  {
   "cell_type": "markdown",
   "id": "4b0c44d7",
   "metadata": {},
   "source": [
    "Marc Bradley"
   ]
  },
  {
   "cell_type": "markdown",
   "id": "88ab2026",
   "metadata": {},
   "source": [
    "M03 PA_Marc"
   ]
  },
  {
   "cell_type": "markdown",
   "id": "50cdf093",
   "metadata": {},
   "source": [
    "7.4"
   ]
  },
  {
   "cell_type": "code",
   "execution_count": 7,
   "id": "550a66db",
   "metadata": {},
   "outputs": [
    {
     "name": "stdout",
     "output_type": "stream",
     "text": [
      "['mozzarella', 'cinderella', 'salmonella']\n"
     ]
    }
   ],
   "source": [
    "things = [\"mozzarella\" , \"cinderella\" , \"salmonella\"] \n",
    "print(things)"
   ]
  },
  {
   "cell_type": "markdown",
   "id": "0e6a4854",
   "metadata": {},
   "source": [
    "7.5"
   ]
  },
  {
   "cell_type": "code",
   "execution_count": 8,
   "id": "f53b4366",
   "metadata": {},
   "outputs": [
    {
     "name": "stdout",
     "output_type": "stream",
     "text": [
      "['mozzarella', 'Cinderella', 'salmonella']\n"
     ]
    }
   ],
   "source": [
    "things = [\"mozzarella\" , \"cinderella\" , \"salmonella\"] \n",
    "things[1] = things[1].capitalize()\n",
    "print(things)"
   ]
  },
  {
   "cell_type": "markdown",
   "id": "6cbd5643",
   "metadata": {},
   "source": [
    "7.6"
   ]
  },
  {
   "cell_type": "code",
   "execution_count": 9,
   "id": "8a60d085",
   "metadata": {},
   "outputs": [
    {
     "name": "stdout",
     "output_type": "stream",
     "text": [
      "['MOZZARELLA', 'cinderella', 'salmonella']\n"
     ]
    }
   ],
   "source": [
    "things = [\"mozzarella\" , \"cinderella\" , \"salmonella\"] \n",
    "things[0] = things[0].upper()\n",
    "print(things)"
   ]
  },
  {
   "cell_type": "markdown",
   "id": "7dcde023",
   "metadata": {},
   "source": [
    "7.7"
   ]
  },
  {
   "cell_type": "code",
   "execution_count": 18,
   "id": "510adfe1",
   "metadata": {},
   "outputs": [
    {
     "name": "stdout",
     "output_type": "stream",
     "text": [
      "['mozzarella', 'cinderella', 'Nobel Prize']\n"
     ]
    }
   ],
   "source": [
    "things = [\"mozzarella\" , \"cinderella\" , \"salmonella\"] \n",
    "things.remove(things[2])\n",
    "things.append(\"Nobel Prize\")\n",
    "print(things)\n"
   ]
  },
  {
   "cell_type": "markdown",
   "id": "c7663998",
   "metadata": {},
   "source": [
    "9.1"
   ]
  },
  {
   "cell_type": "code",
   "execution_count": 19,
   "id": "15514e43",
   "metadata": {},
   "outputs": [
    {
     "name": "stdout",
     "output_type": "stream",
     "text": [
      "['Harry', 'Ron', 'Hermione']\n"
     ]
    }
   ],
   "source": [
    "def good():\n",
    "    print([\"Harry\" , \"Ron\" , \"Hermione\"])\n",
    "good()    "
   ]
  },
  {
   "cell_type": "markdown",
   "id": "042ad5ed",
   "metadata": {},
   "source": [
    "9.2"
   ]
  },
  {
   "cell_type": "code",
   "execution_count": 23,
   "id": "ef49a833",
   "metadata": {},
   "outputs": [
    {
     "name": "stdout",
     "output_type": "stream",
     "text": [
      "5\n"
     ]
    }
   ],
   "source": [
    "def get_odds():\n",
    "    for number in range(10):\n",
    "        if number % 2 != 0:\n",
    "            yield number\n",
    "            \n",
    "count = 0\n",
    "for number in get_odds():\n",
    "    if count == 2:\n",
    "        print(number)\n",
    "        break\n",
    "    count += 1  \n",
    "    "
   ]
  },
  {
   "cell_type": "code",
   "execution_count": null,
   "id": "4543dd04",
   "metadata": {},
   "outputs": [],
   "source": []
  }
 ],
 "metadata": {
  "kernelspec": {
   "display_name": "Python 3 (ipykernel)",
   "language": "python",
   "name": "python3"
  },
  "language_info": {
   "codemirror_mode": {
    "name": "ipython",
    "version": 3
   },
   "file_extension": ".py",
   "mimetype": "text/x-python",
   "name": "python",
   "nbconvert_exporter": "python",
   "pygments_lexer": "ipython3",
   "version": "3.11.4"
  }
 },
 "nbformat": 4,
 "nbformat_minor": 5
}
