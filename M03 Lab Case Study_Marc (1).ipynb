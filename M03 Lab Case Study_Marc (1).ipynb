{
 "cells": [
  {
   "cell_type": "markdown",
   "id": "bb73f6a2",
   "metadata": {},
   "source": [
    "#Marc Bradley"
   ]
  },
  {
   "cell_type": "markdown",
   "id": "d9868ace",
   "metadata": {},
   "source": [
    "#M03 Lab Case Study_Marc"
   ]
  },
  {
   "cell_type": "markdown",
   "id": "4c32ca91",
   "metadata": {},
   "source": [
    "#Input Vehicle Information"
   ]
  },
  {
   "cell_type": "code",
   "execution_count": 2,
   "id": "b5b8ee0a",
   "metadata": {},
   "outputs": [
    {
     "name": "stdout",
     "output_type": "stream",
     "text": [
      "Enter year: 2008\n",
      "Enter make: ford\n",
      "Enter model: focus\n",
      "Enter number of doors: 4\n",
      "Enter type of roof: solid\n",
      "Your Car Details are as follows:\n",
      "Vehicle type: car\n",
      "Year: 2008\n",
      "Make: ford\n",
      "Model: focus\n",
      "Number of doors: 4\n",
      "Type of roof: solid\n"
     ]
    }
   ],
   "source": [
    "class Vehicle:\n",
    "    def __init__(self, vehicle_type):\n",
    "        self.vehicle_type = vehicle_type\n",
    "\n",
    "class Automobile(Vehicle):\n",
    "    def __init__(self, vehicle_type, year, make, model, doors, roof):\n",
    "        Vehicle.__init__(self, vehicle_type)\n",
    "        self.year = year\n",
    "        self.make = make\n",
    "        self.model = model\n",
    "        self.doors = doors\n",
    "        self.roof = roof\n",
    "\n",
    "    def __str__(self):\n",
    "        return \"Vehicle type: \" + self.vehicle_type + \"\\nYear: \" + self.year + \"\\nMake: \" + self.make + \"\\nModel: \" + self.model + \"\\nNumber of doors: \" + self.doors + \"\\nType of roof: \" + self.roof\n",
    "\n",
    "\n",
    "if __name__ == \"__main__\":\n",
    "    year = input(\"Enter year: \")\n",
    "    make = input(\"Enter make: \")\n",
    "    model = input(\"Enter model: \")\n",
    "    doors = input(\"Enter number of doors: \")\n",
    "    roof = input(\"Enter type of roof: \")\n",
    "    carObj = Automobile(\"car\", year, make, model, doors, roof)\n",
    "    print(\"Your Car Details are as follows:\")\n",
    "    print(carObj)\n",
    "    "
   ]
  },
  {
   "cell_type": "code",
   "execution_count": null,
   "id": "abf2c769",
   "metadata": {},
   "outputs": [],
   "source": []
  }
 ],
 "metadata": {
  "kernelspec": {
   "display_name": "Python 3 (ipykernel)",
   "language": "python",
   "name": "python3"
  },
  "language_info": {
   "codemirror_mode": {
    "name": "ipython",
    "version": 3
   },
   "file_extension": ".py",
   "mimetype": "text/x-python",
   "name": "python",
   "nbconvert_exporter": "python",
   "pygments_lexer": "ipython3",
   "version": "3.11.4"
  }
 },
 "nbformat": 4,
 "nbformat_minor": 5
}
