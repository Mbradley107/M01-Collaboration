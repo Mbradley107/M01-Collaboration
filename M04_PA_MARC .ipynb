{
 "cells": [
  {
   "cell_type": "markdown",
   "id": "f4d888d8",
   "metadata": {},
   "source": [
    "Marc Bradley"
   ]
  },
  {
   "cell_type": "markdown",
   "id": "6b6c6909",
   "metadata": {},
   "source": [
    "M04_PA_MARC"
   ]
  },
  {
   "cell_type": "markdown",
   "id": "40879a82",
   "metadata": {},
   "source": [
    "11.1"
   ]
  },
  {
   "cell_type": "code",
   "execution_count": null,
   "id": "97834c4d",
   "metadata": {},
   "outputs": [],
   "source": [
    "# zoo.py\n",
    "def hours():\n",
    "    print('Open 9-5 daily')\n",
    "    \n",
    "  # Python interpreter\n",
    "  \n",
    "import zoo\n",
    "zoo.hours()\n"
   ]
  },
  {
   "cell_type": "markdown",
   "id": "6ff184ab",
   "metadata": {},
   "source": [
    "11.2"
   ]
  },
  {
   "cell_type": "code",
   "execution_count": null,
   "id": "cf08fe1f",
   "metadata": {},
   "outputs": [],
   "source": [
    "import zoo as menagerie\n",
    "menagerie.hours()"
   ]
  },
  {
   "cell_type": "markdown",
   "id": "41b6288f",
   "metadata": {},
   "source": [
    "16.8"
   ]
  },
  {
   "cell_type": "code",
   "execution_count": null,
   "id": "8ccb3ab6",
   "metadata": {},
   "outputs": [],
   "source": [
    "import sqlalchemy\n",
    "import pandas as pd\n",
    "\n",
    "data = sqlalchemy.create_engine('sqlite:////path/books.db') \n",
    "# make sure that the path of the sqlite file is correct. \n",
    "\n",
    "#Now using pandas to read the data file.\n",
    "df = pd.read_sql('select title from book',data)\n",
    "\n",
    "print(df)"
   ]
  }
 ],
 "metadata": {
  "kernelspec": {
   "display_name": "Python 3 (ipykernel)",
   "language": "python",
   "name": "python3"
  },
  "language_info": {
   "codemirror_mode": {
    "name": "ipython",
    "version": 3
   },
   "file_extension": ".py",
   "mimetype": "text/x-python",
   "name": "python",
   "nbconvert_exporter": "python",
   "pygments_lexer": "ipython3",
   "version": "3.11.4"
  }
 },
 "nbformat": 4,
 "nbformat_minor": 5
}
