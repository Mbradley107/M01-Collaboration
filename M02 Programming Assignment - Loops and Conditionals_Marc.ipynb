{
 "cells": [
  {
   "cell_type": "markdown",
   "id": "d7ff5b6c",
   "metadata": {},
   "source": [
    "#Marc Bradley"
   ]
  },
  {
   "cell_type": "markdown",
   "id": "aeef16da",
   "metadata": {},
   "source": [
    "#M02 Programming Assignment - Loops and Conditionals_Marc\n"
   ]
  },
  {
   "cell_type": "markdown",
   "id": "f271144f",
   "metadata": {},
   "source": [
    "#Homework Assignment"
   ]
  },
  {
   "cell_type": "markdown",
   "id": "da20f9e7",
   "metadata": {},
   "source": [
    "4.1"
   ]
  },
  {
   "cell_type": "code",
   "execution_count": 1,
   "id": "f95f7e6b",
   "metadata": {},
   "outputs": [
    {
     "name": "stdout",
     "output_type": "stream",
     "text": [
      "too low\n"
     ]
    }
   ],
   "source": [
    "secret = 7 \n",
    "guess = 5\n",
    "\n",
    "if guess < secret:\n",
    "    print(\"too low\")\n",
    "elif guess > secret:   \n",
    "    print(\"too high\")\n",
    "else: \n",
    "    print(\"just right\")"
   ]
  },
  {
   "cell_type": "markdown",
   "id": "a38d1a69",
   "metadata": {},
   "source": [
    "4.2"
   ]
  },
  {
   "cell_type": "code",
   "execution_count": 2,
   "id": "4b8accc5",
   "metadata": {},
   "outputs": [
    {
     "name": "stdout",
     "output_type": "stream",
     "text": [
      "The cherry is small: true\n",
      "The pea is both small and green: true\n",
      "The watermelon is green: true\n",
      "The pumpkin isn't small and green: true\n"
     ]
    }
   ],
   "source": [
    "small = \"true\"\n",
    "green = \"false\"\n",
    "cherry = small\n",
    "pea = small + green\n",
    "watermelon = green\n",
    "pumpkin =! green + small\n",
    "\n",
    "if cherry == green:\n",
    "    print(\"The cherry is green: \" + green)\n",
    "else:\n",
    "    print(\"The cherry is small: \" + small)\n",
    "    \n",
    "if pea == green:\n",
    "    print(\"The pea is green: \" + green)\n",
    "elif pea == small:\n",
    "    print(\"The pea is small \" + small)\n",
    "else:\n",
    "    print(\"The pea is both small and green: \" + small)\n",
    "    \n",
    "if watermelon == green:\n",
    "    print(\"The watermelon is green: \" + small)\n",
    "else:\n",
    "    print(\"The cherry is small: \" + green) \n",
    "    \n",
    "if pumpkin == small + green:\n",
    "    print(\"The pumpkin is small and green: \" + green)\n",
    "else:\n",
    "    print(\"The pumpkin isn't small and green: \" + small)    "
   ]
  },
  {
   "cell_type": "markdown",
   "id": "81fe1fad",
   "metadata": {},
   "source": [
    "6.1"
   ]
  },
  {
   "cell_type": "code",
   "execution_count": 3,
   "id": "dfd4dd6b",
   "metadata": {},
   "outputs": [
    {
     "name": "stdout",
     "output_type": "stream",
     "text": [
      "3\n",
      "2\n",
      "1\n",
      "0\n"
     ]
    }
   ],
   "source": [
    "x = [\"3\", \"2\", \"1\", \"0\"] \n",
    "for x in \"3\" + \"2\" \"1\" + \"0\":\n",
    "    print(x)\n",
    "    "
   ]
  },
  {
   "cell_type": "markdown",
   "id": "cee68155",
   "metadata": {},
   "source": [
    "6.2"
   ]
  },
  {
   "cell_type": "code",
   "execution_count": 41,
   "id": "57a1f591",
   "metadata": {},
   "outputs": [
    {
     "name": "stdout",
     "output_type": "stream",
     "text": [
      "too low\n"
     ]
    }
   ],
   "source": [
    "guess_me = 7\n",
    "number = 1\n",
    "\n",
    "while True:\n",
    "    if number < guess_me:\n",
    "        print(\"too low\")\n",
    "        break\n",
    "    elif number == guess_me:\n",
    "        print(\"found it!\")\n",
    "        break \n",
    "    else:\n",
    "        print(\"oops\")\n",
    "        break\n",
    "    number += 1"
   ]
  },
  {
   "cell_type": "markdown",
   "id": "374bbbff",
   "metadata": {},
   "source": [
    "6.3"
   ]
  },
  {
   "cell_type": "code",
   "execution_count": 36,
   "id": "feb96e83",
   "metadata": {},
   "outputs": [
    {
     "name": "stdout",
     "output_type": "stream",
     "text": [
      "0\n",
      "too low\n",
      "1\n",
      "too low\n",
      "2\n",
      "too low\n",
      "3\n",
      "too low\n",
      "4\n",
      "too low\n",
      "5\n",
      "found it!\n"
     ]
    }
   ],
   "source": [
    "guess_me = 5\n",
    "\n",
    "for number in range(10):\n",
    "    print(number)\n",
    "    if number < guess_me:\n",
    "        print(\"too low\")\n",
    "    elif number == guess_me:\n",
    "        print(\"found it!\")\n",
    "        break\n",
    "    else: \n",
    "        print(\"oops\")\n",
    "        break"
   ]
  }
 ],
 "metadata": {
  "kernelspec": {
   "display_name": "Python 3 (ipykernel)",
   "language": "python",
   "name": "python3"
  },
  "language_info": {
   "codemirror_mode": {
    "name": "ipython",
    "version": 3
   },
   "file_extension": ".py",
   "mimetype": "text/x-python",
   "name": "python",
   "nbconvert_exporter": "python",
   "pygments_lexer": "ipython3",
   "version": "3.11.4"
  }
 },
 "nbformat": 4,
 "nbformat_minor": 5
}
