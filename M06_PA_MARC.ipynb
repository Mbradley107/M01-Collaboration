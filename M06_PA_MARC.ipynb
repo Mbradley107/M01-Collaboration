{
 "cells": [
  {
   "cell_type": "markdown",
   "id": "aa569bf4",
   "metadata": {},
   "source": [
    "Marc Bradley"
   ]
  },
  {
   "cell_type": "markdown",
   "id": "f6267ea6",
   "metadata": {},
   "source": [
    "M06_PA_Marc"
   ]
  },
  {
   "cell_type": "markdown",
   "id": "dd780157",
   "metadata": {},
   "source": [
    "13.1"
   ]
  },
  {
   "cell_type": "code",
   "execution_count": null,
   "id": "24205ac2",
   "metadata": {},
   "outputs": [],
   "source": [
    "import datetime\n",
    "today = datetime.date.today()\n",
    "file_ptr = open('today.txt', 'w')\n",
    "file_ptr.write(str(today))\n",
    "file_ptr.close()"
   ]
  },
  {
   "cell_type": "markdown",
   "id": "c8b251f3",
   "metadata": {},
   "source": [
    "13.2"
   ]
  },
  {
   "cell_type": "code",
   "execution_count": null,
   "id": "2fdca6cd",
   "metadata": {},
   "outputs": [],
   "source": [
    "file_ptr = open('today.txt', 'r')\n",
    "today_date = file_ptr.read()\n",
    "file_ptr.close()"
   ]
  },
  {
   "cell_type": "markdown",
   "id": "737649b8",
   "metadata": {},
   "source": [
    "13.3"
   ]
  },
  {
   "cell_type": "code",
   "execution_count": null,
   "id": "e3d7388b",
   "metadata": {},
   "outputs": [],
   "source": [
    "today = datetime.datetime.strptime(today_date, '%Y-%m-%d').date()\n",
    "print('Today is', today)\n"
   ]
  },
  {
   "cell_type": "markdown",
   "id": "027678b5",
   "metadata": {},
   "source": [
    "15.1"
   ]
  },
  {
   "cell_type": "code",
   "execution_count": null,
   "id": "00dcc0bf",
   "metadata": {},
   "outputs": [],
   "source": [
    "import multiprocessing\n",
    "from datetime import datetime\n",
    "import time\n",
    "import random\n",
    "\n",
    "\n",
    "def print_time():\n",
    "    now = datetime.now()\n",
    "    print(\"Today's date and time is {}\".format(now))\n",
    "    time.sleep(random.random())\n",
    "\n",
    "\n",
    "if __name__ == '__main__':\n",
    "    proc1 = multiprocessing.Process(target=print_time())\n",
    "    proc2 = multiprocessing.Process(target=print_time())\n",
    "    proc3 = multiprocessing.Process(target=print_time())\n",
    "    proc1.start()\n",
    "    proc2.start()\n",
    "    proc3.start()\n",
    "    proc1.join()\n",
    "    proc2.join()\n",
    "    proc3.join()\n",
    "\n",
    "    print('Completed')"
   ]
  }
 ],
 "metadata": {
  "kernelspec": {
   "display_name": "Python 3 (ipykernel)",
   "language": "python",
   "name": "python3"
  },
  "language_info": {
   "codemirror_mode": {
    "name": "ipython",
    "version": 3
   },
   "file_extension": ".py",
   "mimetype": "text/x-python",
   "name": "python",
   "nbconvert_exporter": "python",
   "pygments_lexer": "ipython3",
   "version": "3.11.4"
  }
 },
 "nbformat": 4,
 "nbformat_minor": 5
}
