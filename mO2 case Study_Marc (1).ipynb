{
 "cells": [
  {
   "cell_type": "markdown",
   "id": "ead00d46",
   "metadata": {},
   "source": [
    "Marc Bradley"
   ]
  },
  {
   "cell_type": "markdown",
   "id": "28ba301b",
   "metadata": {},
   "source": [
    "mo2 Case Study_Marc"
   ]
  },
  {
   "cell_type": "markdown",
   "id": "e0978492",
   "metadata": {},
   "source": [
    "This app will test to see if you are on the honor roll list and or dean's list!"
   ]
  },
  {
   "cell_type": "code",
   "execution_count": null,
   "id": "58eefa7f",
   "metadata": {},
   "outputs": [
    {
     "name": "stdout",
     "output_type": "stream",
     "text": [
      "Welcome! Here we will see if you Qualify for the Deans List or Honor Roll!\n",
      "Type in your last name to get started.ZZZ\n",
      "Hello! Ms. or Mr. ZZZ!\n",
      "I am sorry that is an invalid lastname.  Terminating...\n"
     ]
    }
   ],
   "source": [
    "print(\"Welcome! Here we will see if you Qualify for the Deans List or Honor Roll!\")\n",
    "\n",
    "lastname = input(\"Type in your last name to get started.\")\n",
    "\n",
    "print (\"Hello! \" + \"Ms. or Mr. \" + lastname + \"!\")\n",
    "\n",
    "ZZZ = \"ZZZ\"\n",
    "\n",
    "if lastname == ZZZ:\n",
    "    print(\"I am sorry that is an invalid lastname.  \" + \"Terminating...\")\n",
    "    exit()\n",
    "    \n",
    "firstname = input(\"Type in your first name to continue.\")    \n",
    "print (\"Okay Great... Thank You for your patience \" + firstname  + lastname + \"!\")\n",
    "\n",
    "GPA = float(input(\"Please put in your GPA inside the text box:\"))\n",
    "print(\"Okay so your GPA is : \", GPA)\n",
    "\n",
    "if GPA >= 3.5:\n",
    "    print(\"Congrats You Have Made The Dean's List!\")\n",
    "    \n",
    "if GPA >= 3.25: \n",
    "    print(\"Congrats You Have Made The Honor Roll List! \")\n",
    "        \n",
    "if GPA <= 3.24:\n",
    "    print(\"Unforunately You didn't make the cut... Try Again Next Year :) \")\n",
    "\n"
   ]
  }
 ],
 "metadata": {
  "kernelspec": {
   "display_name": "Python 3 (ipykernel)",
   "language": "python",
   "name": "python3"
  },
  "language_info": {
   "codemirror_mode": {
    "name": "ipython",
    "version": 3
   },
   "file_extension": ".py",
   "mimetype": "text/x-python",
   "name": "python",
   "nbconvert_exporter": "python",
   "pygments_lexer": "ipython3",
   "version": "3.11.4"
  }
 },
 "nbformat": 4,
 "nbformat_minor": 5
}
